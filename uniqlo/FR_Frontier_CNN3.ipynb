{
 "cells": [
  {
   "cell_type": "markdown",
   "metadata": {
    "deletable": true,
    "editable": true
   },
   "source": [
    "## 第1回 FR Frontier ：ファッション画像における洋服の「色」分類\n",
    "\n",
    "* [コンテスト詳細 ビッグデータ活用ならオプトDSL DeepAnalytics](https://deepanalytics.jp/compe/36)"
   ]
  },
  {
   "cell_type": "markdown",
   "metadata": {
    "deletable": true,
    "editable": true
   },
   "source": [
    "## preprocess\n",
    "Opencvをインストール\n",
    "\n",
    "    conda install opencv"
   ]
  },
  {
   "cell_type": "code",
   "execution_count": 1,
   "metadata": {
    "collapsed": true,
    "deletable": true,
    "editable": true
   },
   "outputs": [],
   "source": [
    "import numpy as np\n",
    "import pandas as pd\n",
    "import cv2"
   ]
  },
  {
   "cell_type": "code",
   "execution_count": 2,
   "metadata": {
    "collapsed": true,
    "deletable": true,
    "editable": true
   },
   "outputs": [],
   "source": [
    "import os, sys\n",
    "current_dir = os.getcwd()\n",
    "HOME_DIR = current_dir\n",
    "DATA_GIVEN_DIR = HOME_DIR+\"/data/given/\"\n",
    "#DATA_RESIZED_DIR = HOME_DIR+\"/data/resized/\"\n",
    "DATA_RESIZED_DIR = \"/input/\"\n",
    "DATA_MYDATA_DIR = HOME_DIR+\"/data/processed/\"\n",
    "DATA_TRANS_DIR = HOME_DIR+\"/data/transparent/\""
   ]
  },
  {
   "cell_type": "code",
   "execution_count": null,
   "metadata": {
    "collapsed": true,
    "deletable": true,
    "editable": true
   },
   "outputs": [],
   "source": [
    "width = 667\n",
    "height = 667"
   ]
  },
  {
   "cell_type": "markdown",
   "metadata": {
    "deletable": true,
    "editable": true
   },
   "source": [
    "### Transparent"
   ]
  },
  {
   "cell_type": "code",
   "execution_count": null,
   "metadata": {
    "collapsed": true,
    "deletable": true,
    "editable": true
   },
   "outputs": [],
   "source": [
    "os.makedirs(DATA_TRANS_DIR)\n",
    "os.makedirs(DATA_TRANS_DIR+\"train/\")\n",
    "os.makedirs(DATA_TRANS_DIR+\"test/\")"
   ]
  },
  {
   "cell_type": "code",
   "execution_count": null,
   "metadata": {
    "collapsed": true,
    "deletable": true,
    "editable": true
   },
   "outputs": [],
   "source": [
    "from PIL import Image\n",
    "def trans_img(src, dst, width, height):\n",
    "    img = Image.open(src, 'r')\n",
    "\n",
    "    # 同じサイズの画像を作成\n",
    "    trans = Image.new('RGBA', img.size, (0, 0, 0, 0))\n",
    "\n",
    "    for x in range(width):\n",
    "        for y in range(height):\n",
    "            pixel = img.getpixel( (x, y) )\n",
    "        \n",
    "            # 白なら処理しない\n",
    "            if pixel[0] == 255 and pixel[1] == 255 and pixel[2] == 255:\n",
    "                continue\n",
    "        \n",
    "            # 白以外なら、用意した画像にピクセルを書き込み\n",
    "            trans.putpixel( (x, y), pixel )\n",
    "    # リサイズ後の画像を保存\n",
    "    trans.save(dst, 'JPEG', optimize=True)"
   ]
  },
  {
   "cell_type": "code",
   "execution_count": null,
   "metadata": {
    "collapsed": true,
    "deletable": true,
    "editable": true,
    "scrolled": true
   },
   "outputs": [],
   "source": [
    "# リサイズしないと時間かかりすぎ！！\n",
    "for i in range(0, 12399):\n",
    "    src = DATA_GIVEN_DIR + 'train/' + 'train_%i.jpg'%i\n",
    "    dst = DATA_TRANS_DIR + \"train/\" + 'train_%i.jpg'%i\n",
    "    trans_img(src, dst, width, height)"
   ]
  },
  {
   "cell_type": "code",
   "execution_count": null,
   "metadata": {
    "collapsed": true,
    "deletable": true,
    "editable": true
   },
   "outputs": [],
   "source": [
    "for i in range(0, 9801):\n",
    "    src = DATA_GIVEN_DIR + 'test/' + 'test_%i.jpg'%i\n",
    "    dst = DATA_TRANS_DIR + \"test/\" + 'test_%i.jpg'%i\n",
    "    trans_img(src, dst, width, height)"
   ]
  },
  {
   "cell_type": "markdown",
   "metadata": {
    "deletable": true,
    "editable": true
   },
   "source": [
    "### Load Data"
   ]
  },
  {
   "cell_type": "code",
   "execution_count": 3,
   "metadata": {
    "collapsed": true,
    "deletable": true,
    "editable": true
   },
   "outputs": [],
   "source": [
    "data = []\n",
    "for i in range(0, 12399):\n",
    "    src = DATA_RESIZED_DIR + 'train/' + 'train_%i.jpg'%i\n",
    "    img = cv2.imread(src)\n",
    "\n",
    "    histR = cv2.calcHist([img],[0],None,[256],[0,256])\n",
    "    histG = cv2.calcHist([img],[1],None,[256],[0,256])\n",
    "    histB = cv2.calcHist([img],[2],None,[256],[0,256])\n",
    "\n",
    "    hist = np.concatenate([histR, histG, histB], axis=1)\n",
    "    data.append(hist)"
   ]
  },
  {
   "cell_type": "code",
   "execution_count": 4,
   "metadata": {
    "collapsed": false,
    "deletable": true,
    "editable": true
   },
   "outputs": [
    {
     "data": {
      "text/plain": [
       "(12399, 256, 3)"
      ]
     },
     "execution_count": 4,
     "metadata": {},
     "output_type": "execute_result"
    }
   ],
   "source": [
    "dataX = np.array(data)\n",
    "dataX.shape"
   ]
  },
  {
   "cell_type": "markdown",
   "metadata": {
    "deletable": true,
    "editable": true
   },
   "source": [
    "### train/valid/test  作成"
   ]
  },
  {
   "cell_type": "code",
   "execution_count": 5,
   "metadata": {
    "collapsed": false,
    "deletable": true,
    "editable": true
   },
   "outputs": [
    {
     "data": {
      "text/plain": [
       "(12399, 24)"
      ]
     },
     "execution_count": 5,
     "metadata": {},
     "output_type": "execute_result"
    }
   ],
   "source": [
    "train_master = pd.read_table('/input/train_master.tsv', decimal='\\t')\n",
    "dataY = np.array(train_master['category_id'])\n",
    "dataY = np.array(pd.get_dummies(dataY).astype('float32'))\n",
    "dataY.shape"
   ]
  },
  {
   "cell_type": "code",
   "execution_count": 6,
   "metadata": {
    "collapsed": false,
    "deletable": true,
    "editable": true
   },
   "outputs": [
    {
     "data": {
      "text/plain": [
       "((10000, 256, 3), (2399, 256, 3), (10000, 24), (2399, 24))"
      ]
     },
     "execution_count": 6,
     "metadata": {},
     "output_type": "execute_result"
    }
   ],
   "source": [
    "trainX, validX = dataX[:10000], dataX[10000:]\n",
    "trainY, validY = dataY[:10000], dataY[10000:]\n",
    "trainX.shape, validX.shape, trainY.shape, validY.shape"
   ]
  },
  {
   "cell_type": "markdown",
   "metadata": {
    "deletable": true,
    "editable": true
   },
   "source": [
    "## training"
   ]
  },
  {
   "cell_type": "code",
   "execution_count": 7,
   "metadata": {
    "collapsed": false,
    "deletable": true,
    "editable": true
   },
   "outputs": [
    {
     "name": "stderr",
     "output_type": "stream",
     "text": [
      "Using TensorFlow backend.\n"
     ]
    }
   ],
   "source": [
    "import keras\n",
    "from keras.models import Sequential, Model\n",
    "from keras.layers import Flatten, Dense, Dropout, Conv2D, BatchNormalization, MaxPooling2D\n",
    "from keras.optimizers import Adam, Nadam\n",
    "from keras.preprocessing.image import ImageDataGenerator\n",
    "\n",
    "from keras.layers import Input, Merge\n",
    "from keras.layers.merge import Concatenate\n",
    "from keras.layers import Embedding, Conv1D, MaxPooling1D, SpatialDropout1D"
   ]
  },
  {
   "cell_type": "code",
   "execution_count": 8,
   "metadata": {
    "collapsed": true,
    "deletable": true,
    "editable": true
   },
   "outputs": [],
   "source": [
    "batch_size=64"
   ]
  },
  {
   "cell_type": "code",
   "execution_count": 9,
   "metadata": {
    "collapsed": true,
    "deletable": true,
    "editable": true
   },
   "outputs": [],
   "source": [
    "graph_in = Input ((256,3))\n",
    "convs = [ ] \n",
    "for fsz in range (3, 6): \n",
    "    x = Conv1D(64, fsz, padding='same', activation=\"relu\")(graph_in)\n",
    "    x = MaxPooling1D()(x) \n",
    "    x = BatchNormalization(axis=1)(x)\n",
    "    x = Flatten()(x) \n",
    "    convs.append(x)\n",
    "out = Concatenate()(convs) \n",
    "graph = Model(graph_in, out) "
   ]
  },
  {
   "cell_type": "code",
   "execution_count": 10,
   "metadata": {
    "collapsed": true,
    "deletable": true,
    "editable": true
   },
   "outputs": [],
   "source": [
    "conv2 = Sequential ([\n",
    "    BatchNormalization(axis=1, input_shape=(256,3)),\n",
    "    SpatialDropout1D(0.2),\n",
    "    Dropout(0.2),\n",
    "    graph,\n",
    "    Dropout(0.5),\n",
    "    Dense (100, activation=\"relu\"),\n",
    "    BatchNormalization(axis=1),\n",
    "    Dropout (0.7),\n",
    "    Dense(24, activation='softmax')\n",
    "    ])"
   ]
  },
  {
   "cell_type": "code",
   "execution_count": 11,
   "metadata": {
    "collapsed": true,
    "deletable": true,
    "editable": true
   },
   "outputs": [],
   "source": [
    "conv2.compile(loss='categorical_crossentropy', optimizer=Nadam(), metrics=['accuracy'])"
   ]
  },
  {
   "cell_type": "code",
   "execution_count": 12,
   "metadata": {
    "collapsed": false,
    "deletable": true,
    "editable": true
   },
   "outputs": [
    {
     "name": "stdout",
     "output_type": "stream",
     "text": [
      "_________________________________________________________________\n",
      "Layer (type)                 Output Shape              Param #   \n",
      "=================================================================\n",
      "batch_normalization_4 (Batch (None, 256, 3)            1024      \n",
      "_________________________________________________________________\n",
      "spatial_dropout1d_1 (Spatial (None, 256, 3)            0         \n",
      "_________________________________________________________________\n",
      "dropout_1 (Dropout)          (None, 256, 3)            0         \n",
      "_________________________________________________________________\n",
      "model_1 (Model)              (None, 24576)             4032      \n",
      "_________________________________________________________________\n",
      "dropout_2 (Dropout)          (None, 24576)             0         \n",
      "_________________________________________________________________\n",
      "dense_1 (Dense)              (None, 100)               2457700   \n",
      "_________________________________________________________________\n",
      "batch_normalization_5 (Batch (None, 100)               400       \n",
      "_________________________________________________________________\n",
      "dropout_3 (Dropout)          (None, 100)               0         \n",
      "_________________________________________________________________\n",
      "dense_2 (Dense)              (None, 24)                2424      \n",
      "=================================================================\n",
      "Total params: 2,465,580\n",
      "Trainable params: 2,464,100\n",
      "Non-trainable params: 1,480\n",
      "_________________________________________________________________\n"
     ]
    }
   ],
   "source": [
    "conv2.summary()"
   ]
  },
  {
   "cell_type": "code",
   "execution_count": null,
   "metadata": {
    "collapsed": false,
    "deletable": true,
    "editable": true
   },
   "outputs": [
    {
     "name": "stdout",
     "output_type": "stream",
     "text": [
      "Train on 10000 samples, validate on 2399 samples\n",
      "Epoch 1/50\n"
     ]
    }
   ],
   "source": [
    "conv2.fit(trainX, trainY, epochs=50, batch_size=batch_size, validation_data=(validX, validY))"
   ]
  },
  {
   "cell_type": "code",
   "execution_count": null,
   "metadata": {
    "collapsed": true,
    "deletable": true,
    "editable": true
   },
   "outputs": [],
   "source": [
    "conv2.compile(loss='categorical_crossentropy', optimizer=Adam(), metrics=['accuracy'])"
   ]
  },
  {
   "cell_type": "code",
   "execution_count": null,
   "metadata": {
    "collapsed": true,
    "deletable": true,
    "editable": true
   },
   "outputs": [],
   "source": [
    "conv2.fit(trainX, trainY, epochs=5, batch_size=batch_size, validation_data=(validX, validY))"
   ]
  },
  {
   "cell_type": "code",
   "execution_count": null,
   "metadata": {
    "collapsed": true,
    "deletable": true,
    "editable": true,
    "scrolled": true
   },
   "outputs": [],
   "source": [
    "conv2.compile(loss='categorical_crossentropy', optimizer=Adam(0.01), metrics=['accuracy'])\n",
    "conv2.fit(trainX, trainY, epochs=30, batch_size=batch_size, validation_data=(validX, validY))"
   ]
  },
  {
   "cell_type": "code",
   "execution_count": null,
   "metadata": {
    "collapsed": true,
    "deletable": true,
    "editable": true,
    "scrolled": true
   },
   "outputs": [],
   "source": [
    "conv2.compile(loss='categorical_crossentropy', optimizer=Adam(0.0001), metrics=['accuracy'])\n",
    "conv2.fit(trainX, trainY, epochs=20, batch_size=batch_size, validation_data=(validX, validY))"
   ]
  },
  {
   "cell_type": "code",
   "execution_count": null,
   "metadata": {
    "collapsed": true,
    "deletable": true,
    "editable": true
   },
   "outputs": [],
   "source": [
    "# model.save_weights('2.h5')"
   ]
  },
  {
   "cell_type": "code",
   "execution_count": null,
   "metadata": {
    "collapsed": true,
    "deletable": true,
    "editable": true
   },
   "outputs": [],
   "source": [
    "# model.load_weights('1.h5')"
   ]
  },
  {
   "cell_type": "markdown",
   "metadata": {
    "deletable": true,
    "editable": true
   },
   "source": [
    "## Predict"
   ]
  },
  {
   "cell_type": "code",
   "execution_count": null,
   "metadata": {
    "collapsed": true,
    "deletable": true,
    "editable": true
   },
   "outputs": [],
   "source": [
    "data = []\n",
    "for i in range(0, 9801):\n",
    "    src = DATA_RESIZED_DIR + 'test/' + 'test_%i.jpg'%i\n",
    "    img = cv2.imread(src)\n",
    "\n",
    "    histR = cv2.calcHist([img],[0],None,[256],[0,256])\n",
    "    histG = cv2.calcHist([img],[1],None,[256],[0,256])\n",
    "    histB = cv2.calcHist([img],[2],None,[256],[0,256])\n",
    "\n",
    "    hist = np.concatenate([histR, histG, histB], axis=1)\n",
    "    data.append(hist)"
   ]
  },
  {
   "cell_type": "code",
   "execution_count": null,
   "metadata": {
    "collapsed": true,
    "deletable": true,
    "editable": true
   },
   "outputs": [],
   "source": [
    "testX = np.array(data)\n",
    "testX.shape"
   ]
  },
  {
   "cell_type": "code",
   "execution_count": null,
   "metadata": {
    "collapsed": true,
    "deletable": true,
    "editable": true,
    "scrolled": true
   },
   "outputs": [],
   "source": [
    "test_features = conv2.predict(testX, batch_size=batch_size)"
   ]
  },
  {
   "cell_type": "code",
   "execution_count": null,
   "metadata": {
    "collapsed": true,
    "deletable": true,
    "editable": true
   },
   "outputs": [],
   "source": [
    "test_labels = np.argmax(test_features, axis=1)\n",
    "test_labels[:5]\n",
    "#test_features[:5]\n",
    "#array([20, 14, 17, 20, 23])"
   ]
  },
  {
   "cell_type": "code",
   "execution_count": null,
   "metadata": {
    "collapsed": true,
    "deletable": true,
    "editable": true
   },
   "outputs": [],
   "source": [
    "filenames = []\n",
    "for i in range(0, 9801):\n",
    "    filenames.append(\"test_%i.jpg\"%i)"
   ]
  },
  {
   "cell_type": "code",
   "execution_count": null,
   "metadata": {
    "collapsed": true,
    "deletable": true,
    "editable": true
   },
   "outputs": [],
   "source": [
    "submission = pd.DataFrame({\"Image\": filenames,\n",
    "                             \"Label\": test_labels})"
   ]
  },
  {
   "cell_type": "code",
   "execution_count": null,
   "metadata": {
    "collapsed": true,
    "deletable": true,
    "editable": true
   },
   "outputs": [],
   "source": [
    "submission_file_name = 'submission_cnn3.csv'\n",
    "#np.savetxt(submission_file_name, subm, delimiter=',')\n",
    "submission.to_csv(submission_file_name, index=False, header=None)"
   ]
  },
  {
   "cell_type": "code",
   "execution_count": null,
   "metadata": {
    "collapsed": true,
    "deletable": true,
    "editable": true
   },
   "outputs": [],
   "source": [
    "from IPython.display import FileLink\n",
    "FileLink(submission_file_name)"
   ]
  },
  {
   "cell_type": "code",
   "execution_count": null,
   "metadata": {
    "collapsed": true,
    "deletable": true,
    "editable": true
   },
   "outputs": [],
   "source": []
  }
 ],
 "metadata": {
  "kernelspec": {
   "display_name": "Python [conda env:opt]",
   "language": "python",
   "name": "conda-env-opt-py"
  },
  "language_info": {
   "codemirror_mode": {
    "name": "ipython",
    "version": 3
   },
   "file_extension": ".py",
   "mimetype": "text/x-python",
   "name": "python",
   "nbconvert_exporter": "python",
   "pygments_lexer": "ipython3",
   "version": "3.6.1"
  },
  "notify_time": "30",
  "toc": {
   "colors": {
    "hover_highlight": "#DAA520",
    "running_highlight": "#FF0000",
    "selected_highlight": "#FFD700"
   },
   "moveMenuLeft": true,
   "nav_menu": {
    "height": "101px",
    "width": "254px"
   },
   "navigate_menu": true,
   "number_sections": false,
   "sideBar": true,
   "threshold": 4,
   "toc_cell": false,
   "toc_section_display": "block",
   "toc_window_display": false,
   "widenNotebook": false
  }
 },
 "nbformat": 4,
 "nbformat_minor": 2
}
